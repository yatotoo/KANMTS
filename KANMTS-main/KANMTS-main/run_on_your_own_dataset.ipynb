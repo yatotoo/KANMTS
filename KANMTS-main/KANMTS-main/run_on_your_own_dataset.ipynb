{
 "cells": [
  {
   "cell_type": "markdown",
   "source": [
    "# Guidance for training a model with your own data"
   ],
   "metadata": {
    "collapsed": false
   },
   "id": "d3fbf38ad2f4ccaa"
  },
  {
   "cell_type": "markdown",
   "source": [
    "## 1. Import the necessary packages"
   ],
   "metadata": {
    "collapsed": false
   },
   "id": "6e474201f7f64ab4"
  },
  {
   "cell_type": "code",
   "execution_count": 26,
   "outputs": [],
   "source": [
    "import argparse\n",
    "import os\n",
    "import random\n",
    "\n",
    "import numpy as np\n",
    "import pandas as pd\n",
    "import torch\n",
    "\n",
    "from exp.exp_custom import Exp_Custom"
   ],
   "metadata": {
    "collapsed": false,
    "ExecuteTime": {
     "end_time": "2025-01-07T14:38:24.999869Z",
     "start_time": "2025-01-07T14:38:24.981360Z"
    }
   },
   "id": "356a8bc9c1e1349c"
  },
  {
   "cell_type": "markdown",
   "source": [
    "## 2. Define the hyperparameters"
   ],
   "metadata": {
    "collapsed": false
   },
   "id": "f4b69019515b59d7"
  },
  {
   "cell_type": "code",
   "execution_count": 27,
   "outputs": [
    {
     "name": "stdout",
     "output_type": "stream",
     "text": [
      "Args in experiment:\n",
      "Namespace(grid_size=4, root_path='./dataset/ETT-small/', data_path='ETTm1.csv', data='ETTm1', features='M', freq='h', seq_len=96, pred_len=96, model='KANMTS', checkpoints='./checkpoints/', enc_in=7, dec_in=7, c_out=7, d_model=128, d_core=64, d_ff=128, e_layers=2, learning_rate=0.0003, lradj='cosine', train_epochs=50, patience=3, batch_size=16, dropout=0.0, activation='gelu', use_norm=True, num_workers=0, use_gpu=False, gpu='0', save_model=True, hidden_dim=20)\n"
     ]
    }
   ],
   "source": [
    "# fix seed for reproducibility\n",
    "fix_seed = 2021\n",
    "random.seed(fix_seed)\n",
    "torch.manual_seed(fix_seed)\n",
    "np.random.seed(fix_seed)\n",
    "torch.set_num_threads(6)\n",
    "\n",
    "# basic config\n",
    "config = {\n",
    "    # dataset settings\n",
    "    'grid_size': 4,\n",
    "    'root_path': './dataset/ETT-small/',\n",
    "    'data_path': 'ETTm1.csv',\n",
    "    'data': 'ETTm1',\n",
    "    'features': 'M',\n",
    "    'freq': 'h',\n",
    "    'seq_len': 96,\n",
    "    'pred_len': 96,\n",
    "    # model settings\n",
    "    'model': 'KANMTS',\n",
    "    'checkpoints': './checkpoints/',\n",
    "    'enc_in': 7,\n",
    "    'dec_in': 7,\n",
    "    'c_out': 7,\n",
    "    'd_model': 128,\n",
    "    'd_core': 64,\n",
    "    'd_ff': 128,\n",
    "    'e_layers': 2,\n",
    "    'learning_rate': 0.0003,\n",
    "    'lradj': 'cosine',\n",
    "    'train_epochs': 50,\n",
    "    'patience': 3,\n",
    "    'batch_size': 16,\n",
    "    'dropout': 0.0,\n",
    "    'activation': 'gelu',\n",
    "    'use_norm': True,\n",
    "    # system settings\n",
    "    'num_workers': 0,\n",
    "    'use_gpu': True,\n",
    "    'gpu': '0',\n",
    "    'save_model': True,\n",
    "    'hidden_dim':20,\n",
    "}\n",
    "\n",
    "parser = argparse.ArgumentParser(description='SOFTS')\n",
    "args = parser.parse_args([])\n",
    "args.__dict__.update(config)\n",
    "args.use_gpu = True if torch.cuda.is_available() and args.use_gpu else False\n",
    "\n",
    "print('Args in experiment:')\n",
    "print(args)"
   ],
   "metadata": {
    "collapsed": false,
    "ExecuteTime": {
     "end_time": "2025-01-07T14:38:25.015865Z",
     "start_time": "2025-01-07T14:38:25.001866Z"
    }
   },
   "id": "e886ee3de8bbb1e7"
  },
  {
   "cell_type": "markdown",
   "source": [
    "## 3. Prepare the dataset\n",
    "Organize your data in the following format:\n",
    "- The dataset should be a csv file.\n",
    "- If there is a time feature, the first column contains timestamps in the format 'YYYY-MM-DD HH:MM:SS'. If there's no time feature, the dataset starts directly with the features.\n",
    "- If the parameter `features` is 'M', the following columns are both the features and the targets. If `features` is 'MS', the following columns are the features, and the last column is the target."
   ],
   "metadata": {
    "collapsed": false
   },
   "id": "171fc13ff2726f"
  },
  {
   "cell_type": "code",
   "execution_count": 28,
   "outputs": [
    {
     "name": "stdout",
     "output_type": "stream",
     "text": [
      "                  date   HUFL   HULL   MUFL   MULL   LUFL   LULL         OT\n",
      "0  2016-07-01 00:00:00  5.827  2.009  1.599  0.462  4.203  1.340  30.531000\n",
      "1  2016-07-01 00:15:00  5.760  2.076  1.492  0.426  4.264  1.401  30.459999\n",
      "2  2016-07-01 00:30:00  5.760  1.942  1.492  0.391  4.234  1.310  30.038000\n",
      "3  2016-07-01 00:45:00  5.760  1.942  1.492  0.426  4.234  1.310  27.013000\n",
      "4  2016-07-01 01:00:00  5.693  2.076  1.492  0.426  4.142  1.371  27.787001\n"
     ]
    }
   ],
   "source": [
    "# load data\n",
    "data = pd.read_csv(os.path.join(args.root_path, args.data_path))\n",
    "print(data.head())\n",
    "\n",
    "# split data\n",
    "train_data = data.iloc[: 12 * 30 * 24 * 4]\n",
    "vali_data = data.iloc[12 * 30 * 24 * 4 - args.seq_len: 12 * 30 * 24 * 4 + 4 * 30 * 24 * 4]\n",
    "test_data = data.iloc[12 * 30 * 24 * 4 + 4 * 30 * 24 * 4 - args.seq_len: 12 * 30 * 24 * 4 + 8 * 30 * 24 * 4]\n",
    "\n",
    "# optional: scale data\n",
    "from sklearn.preprocessing import StandardScaler\n",
    "\n",
    "scaler = StandardScaler()\n",
    "if 'date' in train_data.columns:\n",
    "    scaler.fit(train_data.iloc[:, 1:])\n",
    "    train_data.iloc[:, 1:] = scaler.transform(train_data.iloc[:, 1:])\n",
    "    vali_data.iloc[:, 1:] = scaler.transform(vali_data.iloc[:, 1:])\n",
    "    test_data.iloc[:, 1:] = scaler.transform(test_data.iloc[:, 1:])\n",
    "else:\n",
    "    scaler.fit(train_data.iloc[:, :])\n",
    "    train_data.iloc[:, :] = scaler.transform(train_data.iloc[:, :])\n",
    "    vali_data.iloc[:, :] = scaler.transform(vali_data.iloc[:, :])\n",
    "    test_data.iloc[:, :] = scaler.transform(test_data.iloc[:, :])"
   ],
   "metadata": {
    "collapsed": false,
    "ExecuteTime": {
     "end_time": "2025-01-07T14:38:25.141391Z",
     "start_time": "2025-01-07T14:38:25.017867Z"
    }
   },
   "id": "8bc7a801398c68de"
  },
  {
   "cell_type": "markdown",
   "source": [
    "## 4. Train and Evaluate the model\n"
   ],
   "metadata": {
    "collapsed": false
   },
   "id": "c04cef58eb7d57d6"
  },
  {
   "cell_type": "code",
   "execution_count": 29,
   "outputs": [
    {
     "name": "stdout",
     "output_type": "stream",
     "text": [
      "Use CPU\n",
      ">>>>>>>start training : ETTm1_KANMTS_96_96>>>>>>>>>>>>>>>>>>>>>>>>>>\n",
      "\titers: 100, epoch: 1 | loss: 0.2812026\n",
      "\tspeed: 0.1136s/iter; left time: 12194.0797s\n",
      "\titers: 200, epoch: 1 | loss: 0.4118097\n",
      "\tspeed: 0.1422s/iter; left time: 15246.5813s\n",
      "\titers: 300, epoch: 1 | loss: 0.3135319\n",
      "\tspeed: 0.1423s/iter; left time: 15250.9692s\n",
      "\titers: 400, epoch: 1 | loss: 0.2316481\n",
      "\tspeed: 0.1409s/iter; left time: 15080.2390s\n",
      "\titers: 500, epoch: 1 | loss: 0.2624233\n",
      "\tspeed: 0.1415s/iter; left time: 15136.5610s\n",
      "\titers: 600, epoch: 1 | loss: 0.2814146\n",
      "\tspeed: 0.1409s/iter; left time: 15052.2890s\n",
      "\titers: 700, epoch: 1 | loss: 0.4473323\n",
      "\tspeed: 0.1111s/iter; left time: 11858.2058s\n",
      "\titers: 800, epoch: 1 | loss: 0.2278767\n",
      "\tspeed: 0.1428s/iter; left time: 15233.1345s\n",
      "\titers: 900, epoch: 1 | loss: 0.2340266\n",
      "\tspeed: 0.1409s/iter; left time: 15011.4590s\n",
      "\titers: 1000, epoch: 1 | loss: 0.2762641\n",
      "\tspeed: 0.1419s/iter; left time: 15101.4047s\n"
     ]
    },
    {
     "ename": "KeyboardInterrupt",
     "evalue": "",
     "output_type": "error",
     "traceback": [
      "\u001B[1;31m---------------------------------------------------------------------------\u001B[0m",
      "\u001B[1;31mKeyboardInterrupt\u001B[0m                         Traceback (most recent call last)",
      "Cell \u001B[1;32mIn[29], line 4\u001B[0m\n\u001B[0;32m      2\u001B[0m setting \u001B[38;5;241m=\u001B[39m \u001B[38;5;124mf\u001B[39m\u001B[38;5;124m'\u001B[39m\u001B[38;5;132;01m{\u001B[39;00margs\u001B[38;5;241m.\u001B[39mdata\u001B[38;5;132;01m}\u001B[39;00m\u001B[38;5;124m_\u001B[39m\u001B[38;5;132;01m{\u001B[39;00margs\u001B[38;5;241m.\u001B[39mmodel\u001B[38;5;132;01m}\u001B[39;00m\u001B[38;5;124m_\u001B[39m\u001B[38;5;132;01m{\u001B[39;00margs\u001B[38;5;241m.\u001B[39mseq_len\u001B[38;5;132;01m}\u001B[39;00m\u001B[38;5;124m_\u001B[39m\u001B[38;5;132;01m{\u001B[39;00margs\u001B[38;5;241m.\u001B[39mpred_len\u001B[38;5;132;01m}\u001B[39;00m\u001B[38;5;124m'\u001B[39m\n\u001B[0;32m      3\u001B[0m \u001B[38;5;28mprint\u001B[39m(\u001B[38;5;124m'\u001B[39m\u001B[38;5;124m>>>>>>>start training : \u001B[39m\u001B[38;5;132;01m{}\u001B[39;00m\u001B[38;5;124m>>>>>>>>>>>>>>>>>>>>>>>>>>\u001B[39m\u001B[38;5;124m'\u001B[39m\u001B[38;5;241m.\u001B[39mformat(setting))\n\u001B[1;32m----> 4\u001B[0m \u001B[43mExp\u001B[49m\u001B[38;5;241;43m.\u001B[39;49m\u001B[43mtrain\u001B[49m\u001B[43m(\u001B[49m\u001B[43msetting\u001B[49m\u001B[38;5;241;43m=\u001B[39;49m\u001B[43msetting\u001B[49m\u001B[43m,\u001B[49m\u001B[43m \u001B[49m\u001B[43mtrain_data\u001B[49m\u001B[38;5;241;43m=\u001B[39;49m\u001B[43mtrain_data\u001B[49m\u001B[43m,\u001B[49m\u001B[43m \u001B[49m\u001B[43mvali_data\u001B[49m\u001B[38;5;241;43m=\u001B[39;49m\u001B[43mvali_data\u001B[49m\u001B[43m,\u001B[49m\u001B[43m \u001B[49m\u001B[43mtest_data\u001B[49m\u001B[38;5;241;43m=\u001B[39;49m\u001B[43mtest_data\u001B[49m\u001B[43m)\u001B[49m\n\u001B[0;32m      5\u001B[0m \u001B[38;5;28mprint\u001B[39m(\u001B[38;5;124m'\u001B[39m\u001B[38;5;124m>>>>>>>testing : \u001B[39m\u001B[38;5;132;01m{}\u001B[39;00m\u001B[38;5;124m<<<<<<<<<<<<<<<<<<<<<<<<<<<<<<<<<\u001B[39m\u001B[38;5;124m'\u001B[39m\u001B[38;5;241m.\u001B[39mformat(setting))\n\u001B[0;32m      6\u001B[0m Exp\u001B[38;5;241m.\u001B[39mtest(setting\u001B[38;5;241m=\u001B[39msetting, test_data\u001B[38;5;241m=\u001B[39mtest_data)\n",
      "File \u001B[1;32mE:\\论文\\KANMTS\\代码\\SOFTS-main1\\SOFTS-main\\exp\\exp_custom.py:173\u001B[0m, in \u001B[0;36mExp_Custom.train\u001B[1;34m(self, setting, train_data, vali_data, test_data)\u001B[0m\n\u001B[0;32m    170\u001B[0m batch_y \u001B[38;5;241m=\u001B[39m batch_y[:, \u001B[38;5;241m-\u001B[39m\u001B[38;5;28mself\u001B[39m\u001B[38;5;241m.\u001B[39margs\u001B[38;5;241m.\u001B[39mpred_len:, f_dim:]\u001B[38;5;241m.\u001B[39mto(\u001B[38;5;28mself\u001B[39m\u001B[38;5;241m.\u001B[39mdevice)\n\u001B[0;32m    171\u001B[0m loss \u001B[38;5;241m=\u001B[39m criterion(outputs, batch_y)\n\u001B[1;32m--> 173\u001B[0m \u001B[38;5;28;01mif\u001B[39;00m (i \u001B[38;5;241m+\u001B[39m \u001B[38;5;241m1\u001B[39m) \u001B[38;5;241m%\u001B[39m \u001B[38;5;241m100\u001B[39m \u001B[38;5;241m==\u001B[39m \u001B[38;5;241m0\u001B[39m:\n\u001B[0;32m    174\u001B[0m     loss_float \u001B[38;5;241m=\u001B[39m loss\u001B[38;5;241m.\u001B[39mitem()\n\u001B[0;32m    175\u001B[0m     train_loss\u001B[38;5;241m.\u001B[39mappend(loss_float)\n",
      "\u001B[1;31mKeyboardInterrupt\u001B[0m: "
     ]
    }
   ],
   "source": [
    "Exp = Exp_Custom(args)\n",
    "setting = f'{args.data}_{args.model}_{args.seq_len}_{args.pred_len}'\n",
    "print('>>>>>>>start training : {}>>>>>>>>>>>>>>>>>>>>>>>>>>'.format(setting))\n",
    "Exp.train(setting=setting, train_data=train_data, vali_data=vali_data, test_data=test_data)\n",
    "print('>>>>>>>testing : {}<<<<<<<<<<<<<<<<<<<<<<<<<<<<<<<<<'.format(setting))\n",
    "Exp.test(setting=setting, test_data=test_data)"
   ],
   "metadata": {
    "collapsed": false,
    "ExecuteTime": {
     "end_time": "2025-01-07T14:40:50.934353Z",
     "start_time": "2025-01-07T14:38:25.143395Z"
    }
   },
   "id": "77857ed9da69bd61"
  },
  {
   "cell_type": "markdown",
   "source": [
    "## 5. Get predictions by the model"
   ],
   "metadata": {
    "collapsed": false
   },
   "id": "6c25a79ea1985454"
  },
  {
   "cell_type": "code",
   "execution_count": null,
   "outputs": [],
   "source": [
    "# get predictions\n",
    "predictions = Exp.predict(setting=setting, pred_data=test_data)\n",
    "print(predictions.shape)"
   ],
   "metadata": {
    "collapsed": false,
    "ExecuteTime": {
     "end_time": "2025-01-07T14:40:50.936355Z",
     "start_time": "2025-01-07T14:40:50.936355Z"
    }
   },
   "id": "9f0926408d8d19bf"
  },
  {
   "cell_type": "code",
   "outputs": [],
   "source": [],
   "metadata": {
    "collapsed": false
   },
   "id": "6b91598adc8a7b9f",
   "execution_count": null
  }
 ],
 "metadata": {
  "kernelspec": {
   "display_name": "Python 3",
   "language": "python",
   "name": "python3"
  },
  "language_info": {
   "codemirror_mode": {
    "name": "ipython",
    "version": 2
   },
   "file_extension": ".py",
   "mimetype": "text/x-python",
   "name": "python",
   "nbconvert_exporter": "python",
   "pygments_lexer": "ipython2",
   "version": "2.7.6"
  }
 },
 "nbformat": 4,
 "nbformat_minor": 5
}
